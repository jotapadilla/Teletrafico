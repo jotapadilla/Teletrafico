{
 "cells": [
  {
   "cell_type": "markdown",
   "metadata": {},
   "source": [
    "# Práctica No. 1.  Red simple con un generador de paquetes y un receptor"
   ]
  },
  {
   "cell_type": "markdown",
   "metadata": {},
   "source": [
    "*Autor: Jhon Jairo Padilla Aguilar, PhD.*\n",
    "\n",
    "## Objetivo:\n",
    "\n",
    "Comprender cómo se realiza la generación de paquetes y el monitoreo de los paquetes en la salida.\n",
    "\n",
    "## Topología de la red:\n",
    "\n",
    "La red a construir es muy sencilla: se conectan un generador a un solo receptor. "
   ]
  },
  {
   "cell_type": "markdown",
   "metadata": {},
   "source": [
    "## Descripción del código:\n",
    "\n",
    "Inicialmente, se importan las funciones expovariate (exponencial) de la librería random, luego la librería simpy, los elementos Packet Generator y PacketSink del archivo SimComponents y finalmente la librería matplotlib para las gráficas.  Esto se observa en el siguiente código en Python:"
   ]
  },
  {
   "cell_type": "code",
   "execution_count": 1,
   "metadata": {},
   "outputs": [],
   "source": [
    "from random import expovariate\n",
    "import simpy\n",
    "from SimComponents import PacketGenerator, PacketSink\n",
    "import matplotlib.pyplot as plt"
   ]
  },
  {
   "cell_type": "markdown",
   "metadata": {},
   "source": [
    "A se definen dos funciones, la primera (constArrival), devuelve un valor exponencial con una media de 2.0 y que representa la tasa media de llegadas para el generador.   La segunda (distSize), devuelve un valor con una distribución exponencial con media 0.01.  Esto se observa en el siguiente código en Python:"
   ]
  },
  {
   "cell_type": "code",
   "execution_count": 2,
   "metadata": {},
   "outputs": [],
   "source": [
    "def constArrival():  # distribución de llegadas para el generador de paquetes\n",
    "    return expovariate(2.0)\n",
    "\n",
    "\n",
    "def distSize():  # distribución del tamaño de los paquetes\n",
    "    return expovariate(0.01)"
   ]
  },
  {
   "cell_type": "markdown",
   "metadata": {},
   "source": [
    "A continuación se crea el ambiente de simulación en Simpy mediante la siguiente línea de código:"
   ]
  },
  {
   "cell_type": "code",
   "execution_count": 3,
   "metadata": {},
   "outputs": [],
   "source": [
    "env = simpy.Environment()  # Crea el ambiente de simulación Simpy"
   ]
  },
  {
   "cell_type": "markdown",
   "metadata": {},
   "source": [
    "Luego, se crean los 3 elementos que componen la red: ps, que es un receptor de paquetes, pg, que es un generador de paquetes cuyo nombre es EE283, y pg2 que es otro generador de paquetes cuyo nombre es SJSU.  Para ps se habilita el seguimiento o debugging para una salida simple.  Para el elemento pg se generan los paquetes con una tasa de llegadas ConstArrival y un tamaño de paquete distSize.  Para el elemento pg2 se usa una tasa de llegadas ConstArrival2 y una distribución de tamaño de paquete del mismo tipo que para pg.  Estos parámetros fueron descritos previamente."
   ]
  },
  {
   "cell_type": "code",
   "execution_count": 4,
   "metadata": {},
   "outputs": [],
   "source": [
    "# Crear el generador de paquetes y el Receptor\n",
    "ps = PacketSink(env, debug=True, rec_arrivals=True)  # Creación del receptor. Usa debug=True para imprimir llegadas\n",
    "pg = PacketGenerator(env, \"EE283\", constArrival, distSize) #Creación del generador\n"
   ]
  },
  {
   "cell_type": "markdown",
   "metadata": {},
   "source": [
    "A continuación se conectan los elementos que componen la red así: la salida del generador pg con el receptor ps.  Finalmente se da la orden env.run(until==20) para indicar que se debe ejecutar la simulación hasta cumplir 20 unidades de tiempo"
   ]
  },
  {
   "cell_type": "code",
   "execution_count": 5,
   "metadata": {},
   "outputs": [
    {
     "name": "stdout",
     "output_type": "stream",
     "text": [
      "id: 1, src: EE283, time: 0.29244566069792327, size: 4.450564578389346\n",
      "id: 2, src: EE283, time: 0.5530077119154428, size: 40.727101160385395\n",
      "id: 3, src: EE283, time: 1.148247766954877, size: 253.044386381298\n",
      "id: 4, src: EE283, time: 1.1680127626645764, size: 33.71577588837138\n",
      "id: 5, src: EE283, time: 1.3214959272214033, size: 95.30884595997942\n",
      "id: 6, src: EE283, time: 1.5999047956138746, size: 88.72933740227057\n",
      "id: 7, src: EE283, time: 1.7231257114389522, size: 22.25711110865629\n",
      "id: 8, src: EE283, time: 3.9274882562086058, size: 289.29124553617686\n",
      "id: 9, src: EE283, time: 4.65650391436357, size: 81.09881955648922\n",
      "id: 10, src: EE283, time: 4.753135142991935, size: 442.34126993667587\n",
      "id: 11, src: EE283, time: 5.760615578319653, size: 4.197010936405443\n",
      "id: 12, src: EE283, time: 8.03175710440661, size: 132.77382973902172\n",
      "id: 13, src: EE283, time: 8.480842041859535, size: 28.328207089279182\n",
      "id: 14, src: EE283, time: 8.645430933473415, size: 108.5908782699622\n",
      "id: 15, src: EE283, time: 9.213656125205151, size: 34.70174791521782\n",
      "id: 16, src: EE283, time: 9.468319998072186, size: 26.53983671640758\n",
      "id: 17, src: EE283, time: 10.062428611782323, size: 16.29358954392032\n",
      "id: 18, src: EE283, time: 10.27709968653835, size: 78.41668459129143\n",
      "id: 19, src: EE283, time: 10.338496562774502, size: 34.29299397752559\n",
      "id: 20, src: EE283, time: 10.500807625938117, size: 176.1071731475397\n",
      "id: 21, src: EE283, time: 11.395588402661891, size: 244.26007759772986\n",
      "id: 22, src: EE283, time: 13.952177019508259, size: 127.08233223221852\n",
      "id: 23, src: EE283, time: 14.322535705519813, size: 159.45059342865736\n",
      "id: 24, src: EE283, time: 14.693620136264425, size: 463.5718892686695\n",
      "id: 25, src: EE283, time: 15.018513778149334, size: 77.95291783404114\n",
      "id: 26, src: EE283, time: 15.534010094728638, size: 160.89757952852227\n",
      "id: 27, src: EE283, time: 15.786814538134287, size: 49.3287970525931\n",
      "id: 28, src: EE283, time: 16.40612230347165, size: 123.60767008637987\n",
      "id: 29, src: EE283, time: 16.63192865875848, size: 92.3448156620796\n",
      "id: 30, src: EE283, time: 16.79423595536223, size: 13.910276328534252\n",
      "id: 31, src: EE283, time: 17.797391388168865, size: 42.04067123293727\n",
      "id: 32, src: EE283, time: 18.066626821541334, size: 112.0701689858678\n",
      "id: 33, src: EE283, time: 18.329916144574668, size: 12.921156468915223\n",
      "id: 34, src: EE283, time: 18.806318367826986, size: 92.91952289143074\n"
     ]
    }
   ],
   "source": [
    "# Conectar el generador de paquetes con el receptor\n",
    "pg.out = ps\n",
    "\n",
    "env.run(until=20)"
   ]
  },
  {
   "cell_type": "markdown",
   "metadata": {},
   "source": [
    "La salida del programa muestra la identificación del paquete (id), la fuente o generador que lo produjo (src), el tiempo en que fue emitido (time) y el tamaño (size)."
   ]
  },
  {
   "cell_type": "markdown",
   "metadata": {},
   "source": [
    "Ahora se graficará el histograma de los paquetes recibidos, para lo que se usa la función hist para los histogramas y como datos de entrada para el gráfico se toman las llegadas que han sido registradas en ps.arrivals.  El numero de clases se da con bins=15.  El gráfico se obtiene con el siguiente código:"
   ]
  },
  {
   "cell_type": "code",
   "execution_count": 6,
   "metadata": {},
   "outputs": [
    {
     "data": {
      "image/png": "[encoded data removed]",
      "text/plain": [
       "<Figure size 432x288 with 1 Axes>"
      ]
     },
     "metadata": {
      "needs_background": "light"
     },
     "output_type": "display_data"
    }
   ],
   "source": [
    "fig, axis = plt.subplots()\n",
    "axis.hist(ps.arrivals, bins=15, density=True)\n",
    "axis.set_title(\"Histograma de los tiempos entre llegadas\")\n",
    "axis.set_xlabel(\"tiempo\")\n",
    "axis.set_ylabel(\"frecuencia de ocurrencia normalizada\")\n",
    "# fig.savefig(\"ArrivalHistogram.png\")\n",
    "plt.show()"
   ]
  },
  {
   "cell_type": "markdown",
   "metadata": {},
   "source": [
    "Se observa en el gráfico que el histograma de los tiempos de llegada tiene una forma aproximada de una distribución exponencial."
   ]
  },
  {
   "cell_type": "markdown",
   "metadata": {},
   "source": [
    "## Pruebas con diferentes tipos de distribuciones de tráfico\n",
    "\n",
    "Ahora, tome en cuenta las definiciones de las distribuciones de la librería random:\n",
    "\n",
    "**lognormvariate(mu, sigma)**\n",
    "Logaritmo de la distribución normal. Si se usa un logaritmo natural de esta distribución, se obtendrá una distribución normal con media mu y desviación estándar sigma. mu puede tener cualquier valor, y sigma debe ser mayor que cero.\n",
    "\n",
    "**normalvariate(mu, sigma)**\n",
    "Distribución normal. mu es la media y sigma es la desviación estándar.\n",
    "\n",
    "**paretovariate(alpha)**\n",
    "Distribución de Pareto. alpha es el parámetro de forma.\n",
    "\n",
    "**weibullvariate(alpha, beta)**\n",
    "Distribución de Weibull. alpha es el parámetro de escala y beta es el parámetro de forma.\n",
    "\n",
    "### Tarea:\n",
    "\n",
    "Debe importar las respectivas funciones desde la librería random al inicio del código, y luego debe usar la función constArrival() para que en lugar de retornar números aleatorios con la distribución exponencial, lo haga con una de las 4 distribuciones mencionadas.  Repita el procedimiento para las 4 distribuciones listadas y genere el histograma para cada caso. Utilice medias similares a las del ejemplo anterior. Escriba un reporte con los pasos seguidos y los resultados obtenidos para cada distribución de probabilidad."
   ]
  }
 ],
 "metadata": {
  "kernelspec": {
   "display_name": "Python 3",
   "language": "python",
   "name": "python3"
  },
  "language_info": {
   "codemirror_mode": {
    "name": "ipython",
    "version": 3
   },
   "file_extension": ".py",
   "mimetype": "text/x-python",
   "name": "python",
   "nbconvert_exporter": "python",
   "pygments_lexer": "ipython3",
   "version": "3.7.3"
  }
 },
 "nbformat": 4,
 "nbformat_minor": 4
}
